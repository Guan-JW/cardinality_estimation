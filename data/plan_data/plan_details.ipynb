{
 "cells": [
  {
   "cell_type": "code",
   "execution_count": 1,
   "metadata": {
    "collapsed": true
   },
   "outputs": [],
   "source": [
    "# import torch\n",
    "import csv\n",
    "# from torch.utils.data import dataset\n",
    "import numpy as np\n",
    "import os\n",
    "import re"
   ]
  },
  {
   "cell_type": "code",
   "execution_count": 28,
   "metadata": {
    "collapsed": true
   },
   "outputs": [],
   "source": [
    "# train_path = \"training_data.csv\"\n",
    "min_max_path = \"column_min_max_vals.csv\"\n",
    "test_path = \"testing_data.csv\"\n",
    "train_path = \"train.csv\"\n",
    "plan_train_path =\"training_plans/training_plans\"\n",
    "plan_test_path = \"testing_plans/testing_plans\"\n",
    "train_numbers = 100000\n",
    "test_numbers = 5000"
   ]
  },
  {
   "cell_type": "code",
   "execution_count": 29,
   "metadata": {},
   "outputs": [],
   "source": [
    "import re\n",
    "# 查询计划提取： fliter_rows & filter_ condition\n",
    "def load_plan(plan_path, train):\n",
    "    plan= {}\n",
    "    filter_con= None\n",
    "    filter_condition = None\n",
    "    rows = None\n",
    "    rows_int = 0\n",
    "    if train:\n",
    "        nums = train_numbers\n",
    "    else:\n",
    "        nums = test_numbers\n",
    "    \n",
    "    for i in range(nums):\n",
    "        file_path = plan_path + '/' + str(i) +'.txt'\n",
    "        pattern_rows = re.compile(r'Rows Removed by Filter: [0-9]*')\n",
    "        pattern_filter = re.compile(r'Filter: [(](.*)[)]')\n",
    "        pattern_int = re.compile(r'[0-9]\\d*')\n",
    "        pattern_filter2 = re.compile(r'[(]([0-9 a-z A-Z /_ /> /< /=]*)[)]')\n",
    "\n",
    "        with open(file_path,'r') as f:\n",
    "            plan[i] = {}\n",
    "            count=0\n",
    "            \n",
    "            for line in f.readlines():\n",
    "                try:\n",
    "                    filter_con_tmp = filter_con\n",
    "                    filter_con = pattern_filter.findall(line)\n",
    "                    if len(filter_con) ==0:\n",
    "                        filter_con = filter_con_tmp\n",
    "#                     print('filter_con',filter_con)           \n",
    "                except Exception as e:\n",
    "                    tmp =1\n",
    "                    #print('1',e)\n",
    "                try:\n",
    "                    rows = pattern_rows.findall(line)\n",
    "                    rows_int = pattern_int.search(str(rows)).group()\n",
    "\n",
    "                    if '(' not in str(filter_con):\n",
    "#                         print('过滤一种判断',rows_int,count)\n",
    "                        plan[i][str(filter_con[0])] = int(rows_int)\n",
    "                        count= count+1\n",
    "                    else:\n",
    "                        filter_condition = pattern_filter2.findall(str(filter_con))\n",
    "#                         print(\"filter_condition***************\",filter_condition)\n",
    "                        if len(filter_condition) == 2:\n",
    "                            plan[i][str(filter_condition[0])] = int(int(rows_int)/2)\n",
    "                            plan[i][str(filter_condition[1])] = int(int(rows_int)/2)\n",
    "                            count = count+2\n",
    "                        elif len(filter_condition) ==3:\n",
    "                            plan[i][str(filter_condition[0])] = int(int(rows_int)/3)\n",
    "                            plan[i][str(filter_condition[1])] = int(int(rows_int)/3)\n",
    "                            plan[i][str(filter_condition[2])] = int(int(rows_int)/3)\n",
    "#                         print('plan************************',plan,int(rows_int))\n",
    "                 \n",
    "                except Exception as e :\n",
    "                    tmp=1\n",
    "                    \n",
    "\n",
    "\n",
    "    return plan\n",
    "    if train:\n",
    "        aim_path = 'plan/filter_train.csv'\n",
    "    else:\n",
    "        aim_path = 'plan/filter_test.csv'\n",
    "            \n",
    "        os.makedirs(os.path.dirname(aim_path), exist_ok=True)\n",
    "        with open(aim_path,'w') as f:\n",
    "            for i in range(nums):\n",
    "                f.write(str(i)+'#')\n",
    "                for item in plan[i].items():\n",
    "                    f.write(str(item[0])+','+str(item[1])+'#')\n",
    "                f.write('\\n')\n",
    "\n",
    "plan_train = load_plan(plan_train_path,True)\n",
    "plan_test = load_plan(plan_test_path,False)"
   ]
  },
  {
   "cell_type": "code",
   "execution_count": null,
   "metadata": {
    "collapsed": true
   },
   "outputs": [],
   "source": [
    "import re\n",
    "# 查询计划提取： execution_time & plan_rows\n",
    "def load_plan(plan_path, train):\n",
    "    execution_time = [] #实际执行时间\n",
    "    plan_rows = []  #计划执行行数\n",
    "    if train:\n",
    "        nums = train_numbers\n",
    "    else:\n",
    "        nums = test_numbers\n",
    "    \n",
    "    for i in range(nums):\n",
    "        file_path = plan_path + '/' + str(i) +'.txt'\n",
    "        pattern_time = re.compile(r'Execution time: [1-9]\\d*\\.\\d*|0\\.\\d*[1-9]\\d*')\n",
    "        pattern_float = re.compile(r'[1-9]\\d*\\.\\d*|0\\.\\d*[1-9]\\d*')\n",
    "\n",
    "        pattern_rows = re.compile(r'rows=[0-9]*')\n",
    "        pattern_int = re.compile(r'[0-9]\\d*')\n",
    "#         print(i)\n",
    "        with open(file_path,'r') as f:\n",
    "            line = f.readlines()\n",
    "            line_first= line[0]\n",
    "            line_last = line[-1]\n",
    "\n",
    "            rows = pattern_rows.search(line_first).group()\n",
    "            time = pattern_time.search(line_last).group()\n",
    "            rows_int = pattern_int.search(rows).group()\n",
    "            time_float = pattern_float.search(time).group()\n",
    "\n",
    "            plan_rows.append(rows_int)\n",
    "            execution_time.append(time_float)\n",
    "            \n",
    "    return plan_rows, execution_time"
   ]
  },
  {
   "cell_type": "code",
   "execution_count": null,
   "metadata": {
    "collapsed": true
   },
   "outputs": [],
   "source": [
    "plan_rows_train, exe_time_train=load_plan(plan_train_path,True)\n",
    "plan_rows_test, exe_time_test = load_plan(plan_test_path,False)\n",
    "print(len(plan_rows_train), len(exe_time_train), \n",
    "      len(plan_rows_test), len(exe_time_test))"
   ]
  },
  {
   "cell_type": "code",
   "execution_count": null,
   "metadata": {
    "collapsed": true
   },
   "outputs": [],
   "source": [
    "def write_plan(file_path,plan_rows, exe_time):\n",
    "    os.makedirs(os.path.dirname(file_path), exist_ok=True)\n",
    "    with open(file_path,'w') as f:\n",
    "        f.write('plan_rows,exe_times'+'\\n')\n",
    "        for i in range(len(plan_rows)):\n",
    "            f.write(str(plan_rows[i])+',' + str(exe_time[i])+'\\n')\n",
    "            \n",
    "write_plan('plan/train.csv',plan_rows_train,exe_time_train)    \n",
    "write_plan('plan/test.csv', plan_rows_test,exe_time_test)"
   ]
  }
 ],
 "metadata": {
  "kernelspec": {
   "display_name": "Python 3",
   "language": "python",
   "name": "python3"
  },
  "language_info": {
   "codemirror_mode": {
    "name": "ipython",
    "version": 3
   },
   "file_extension": ".py",
   "mimetype": "text/x-python",
   "name": "python",
   "nbconvert_exporter": "python",
   "pygments_lexer": "ipython3",
   "version": "3.7.7"
  }
 },
 "nbformat": 4,
 "nbformat_minor": 2
}
